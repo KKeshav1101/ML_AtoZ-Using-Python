{
  "nbformat": 4,
  "nbformat_minor": 0,
  "metadata": {
    "colab": {
      "provenance": []
    },
    "kernelspec": {
      "name": "python3",
      "display_name": "Python 3"
    },
    "language_info": {
      "name": "python"
    }
  },
  "cells": [
    {
      "cell_type": "markdown",
      "source": [
        "# Thompson Sampling - Reinforcement Learning"
      ],
      "metadata": {
        "id": "jPVbeniTXrwg"
      }
    },
    {
      "cell_type": "markdown",
      "source": [
        "## Import Libraries"
      ],
      "metadata": {
        "id": "kvCQk5qZXwZI"
      }
    },
    {
      "cell_type": "code",
      "execution_count": 1,
      "metadata": {
        "id": "eX-ULAXtXni0"
      },
      "outputs": [],
      "source": [
        "import pandas as pd\n",
        "import numpy as np\n",
        "import matplotlib.pyplot as plt"
      ]
    },
    {
      "cell_type": "markdown",
      "source": [
        "## Importing dataset"
      ],
      "metadata": {
        "id": "edf7Bgv9YQZU"
      }
    },
    {
      "cell_type": "code",
      "source": [
        "df = pd.read_csv('Ads_CTR_Optimisation.csv')"
      ],
      "metadata": {
        "id": "pcH0uoxEX13N"
      },
      "execution_count": 2,
      "outputs": []
    },
    {
      "cell_type": "markdown",
      "source": [
        "## Implementing Thompson Sampling Algorithm"
      ],
      "metadata": {
        "id": "iZ4hIi1QZCsu"
      }
    },
    {
      "cell_type": "code",
      "source": [
        "import random\n",
        "#N=10000\n",
        "#N=1000\n",
        "N = 500\n",
        "d = 10\n",
        "ads_selected = []\n",
        "numbers_of_rewards_1 = [0] * d\n",
        "numbers_of_rewards_0 = [0] * d\n",
        "total_reward = 0"
      ],
      "metadata": {
        "id": "SQnIYMaDYXoN"
      },
      "execution_count": 12,
      "outputs": []
    },
    {
      "cell_type": "code",
      "source": [
        "for n in range(0, N):\n",
        "    max_random = 0\n",
        "    ad = 0\n",
        "    for i in range(0, d):\n",
        "        random_beta = random.betavariate(numbers_of_rewards_1[i]+1,numbers_of_rewards_0[i]+1)\n",
        "        if random_beta > max_random:\n",
        "          max_random = random_beta\n",
        "          ad=i\n",
        "    ads_selected.append(ad)\n",
        "    reward = df.values[n,ad]\n",
        "    if reward == 1:\n",
        "      numbers_of_rewards_1[ad] = numbers_of_rewards_1[ad] + 1\n",
        "    else:\n",
        "      numbers_of_rewards_0[ad] = numbers_of_rewards_0[ad] + 1\n",
        "    total_reward = total_reward + reward"
      ],
      "metadata": {
        "id": "OPqObnJEacT-"
      },
      "execution_count": 13,
      "outputs": []
    },
    {
      "cell_type": "markdown",
      "source": [
        "## Visualising the data"
      ],
      "metadata": {
        "id": "hS_ZaIk7ZGUs"
      }
    },
    {
      "cell_type": "code",
      "source": [
        "plt.hist(ads_selected)\n",
        "plt.title('Histogram of ads selections')\n",
        "plt.xlabel('Ads')\n",
        "plt.ylabel('Number of times each ad was selected')\n",
        "plt.show()"
      ],
      "metadata": {
        "colab": {
          "base_uri": "https://localhost:8080/",
          "height": 472
        },
        "id": "wzbl2UhMZInG",
        "outputId": "52cd7521-9c3e-44ff-be70-9792ad1098cc"
      },
      "execution_count": 14,
      "outputs": [
        {
          "output_type": "display_data",
          "data": {
            "text/plain": [
              "<Figure size 640x480 with 1 Axes>"
            ],
            "image/png": "[encoded data removed]"
          },
          "metadata": {}
        }
      ]
    },
    {
      "cell_type": "markdown",
      "source": [
        "finds in 1000 rounds! trying for 500 rounds, and yup that as well"
      ],
      "metadata": {
        "id": "fUXThLZZcFq2"
      }
    },
    {
      "cell_type": "code",
      "source": [],
      "metadata": {
        "id": "ktp1ax5HcCul"
      },
      "execution_count": null,
      "outputs": []
    }
  ]
}